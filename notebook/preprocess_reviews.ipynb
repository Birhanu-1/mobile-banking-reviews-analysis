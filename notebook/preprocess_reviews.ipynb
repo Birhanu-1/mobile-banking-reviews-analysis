{
 "cells": [
  {
   "cell_type": "code",
   "execution_count": null,
   "id": "75a29a4f-9f75-44aa-ad3d-119222d790e0",
   "metadata": {},
   "outputs": [],
   "source": [
    "Preprocessing includes:\n",
    "    - Removing duplicates\n",
    "    - Dropping rows with missing critical fields\n",
    "    - Normalizing the date format to 'YYYY-MM-DD'\n",
    "\n",
    "The final cleaned dataset is saved to: `data/raw_reviews.csv`\n",
    "\n",
    "KPI Targets:\n",
    "------------\n",
    "- Minimum 400 reviews per bank (1,200 total)\n",
    "- <5% missing data after preprocessing\n",
    "- Clean, structured CSV output for downstream analysis"
   ]
  },
  {
   "cell_type": "code",
   "execution_count": 2,
   "id": "557c8970-0482-4f0c-a50e-fd47ddf99db0",
   "metadata": {},
   "outputs": [],
   "source": [
    "import pandas as pd\n"
   ]
  },
  {
   "cell_type": "code",
   "execution_count": 3,
   "id": "7c3fce16-0bbb-4b63-ab36-0a4d84fc1a13",
   "metadata": {},
   "outputs": [
    {
     "name": "stdout",
     "output_type": "stream",
     "text": [
      "Cleaned data saved to ../data/clean_reviews.csv\n"
     ]
    }
   ],
   "source": [
    "# 2. Define preprocessing function\n",
    "def preprocess_reviews(input_path, output_path):\n",
    "    df = pd.read_csv(input_path)\n",
    "\n",
    "    # Drop duplicates\n",
    "    df.drop_duplicates(subset='review', inplace=True)\n",
    "\n",
    "    # Drop rows with missing key data\n",
    "    df.dropna(subset=['review', 'rating', 'date'], inplace=True)\n",
    "\n",
    "    # Normalize date format\n",
    "    df['date'] = pd.to_datetime(df['date'], errors='coerce').dt.date\n",
    "    df.dropna(subset=['date'], inplace=True)  # drop any invalid dates\n",
    "\n",
    "    # Save cleaned data\n",
    "    df.to_csv(output_path, index=False)\n",
    "    print(f\"Cleaned data saved to {output_path}\")\n",
    "\n",
    "# 3. Define main()\n",
    "def main():\n",
    "    input_path = '../data/raw_reviews.csv'\n",
    "    output_path = '../data/clean_reviews.csv'\n",
    "    preprocess_reviews(input_path, output_path)\n",
    "\n",
    "# 4. Run main()\n",
    "main()"
   ]
  },
  {
   "cell_type": "code",
   "execution_count": null,
   "id": "a926693c-d596-4667-9c34-7a5cc1a57dd0",
   "metadata": {},
   "outputs": [],
   "source": []
  }
 ],
 "metadata": {
  "kernelspec": {
   "display_name": "Python 3 (ipykernel)",
   "language": "python",
   "name": "python3"
  },
  "language_info": {
   "codemirror_mode": {
    "name": "ipython",
    "version": 3
   },
   "file_extension": ".py",
   "mimetype": "text/x-python",
   "name": "python",
   "nbconvert_exporter": "python",
   "pygments_lexer": "ipython3",
   "version": "3.13.2"
  }
 },
 "nbformat": 4,
 "nbformat_minor": 5
}
