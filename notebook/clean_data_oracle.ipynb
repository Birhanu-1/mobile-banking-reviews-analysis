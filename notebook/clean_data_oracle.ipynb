{
 "cells": [
  {
   "cell_type": "code",
   "execution_count": 14,
   "id": "3969de62-6445-48ce-a5a2-913d35fd63f4",
   "metadata": {},
   "outputs": [],
   "source": [
    "import cx_Oracle\n",
    "import pandas as pd\n",
    "import hashlib\n"
   ]
  },
  {
   "cell_type": "code",
   "execution_count": 28,
   "id": "564c2f35-c4c5-4420-8570-c3a77569d93c",
   "metadata": {},
   "outputs": [
    {
     "name": "stdout",
     "output_type": "stream",
     "text": [
      " Connected to Oracle XE successfully.\n",
      " Inserted banks successfully.\n",
      " Fetched bank ID mappings: {'CBE': 74, 'BOA': 75, 'Dashen': 76}\n",
      "successfully inserted\n"
     ]
    }
   ],
   "source": [
    "\n",
    "# Connect to Oracle XE\n",
    "try:\n",
    "    conn = cx_Oracle.connect(\"system/Testing1@localhost/XEPDB1\")\n",
    "    cursor = conn.cursor()\n",
    "    print(\" Connected to Oracle XE successfully.\")\n",
    "except cx_Oracle.DatabaseError as e:\n",
    "    print(\"Connection failed:\", e)\n",
    "    exit()\n",
    "\n",
    "# Step 1: Insert banks — run only once\n",
    "banks = {\n",
    "    'com.combanketh.mobilebanking': 'CBE',\n",
    "    'com.boa.boaMobileBanking': 'BOA',\n",
    "    'com.cr2.amolelight': 'Dashen'\n",
    "}\n",
    "\n",
    "try:\n",
    "    for app_id, name in banks.items():\n",
    "        cursor.execute(\"INSERT INTO banks (bank_name, app_id) VALUES (:1, :2)\", (name, app_id))\n",
    "    conn.commit()\n",
    "    print(\" Inserted banks successfully.\")\n",
    "except cx_Oracle.DatabaseError as e:\n",
    "    print(\" Skipping bank insertion (possibly already inserted):\", e)\n",
    "\n",
    "# Step 2: Fetch bank_id mapping\n",
    "cursor.execute(\"SELECT bank_id, bank_name FROM banks\")\n",
    "bank_id_map = {name: bank_id for bank_id, name in cursor.fetchall()}\n",
    "print(\" Fetched bank ID mappings:\", bank_id_map)\n",
    "\n",
    "# Step 3: Load cleaned review data\n",
    "df = pd.read_csv(\"../data/review_with_themes.csv\")  # Update path if needed\n",
    "\n",
    "# Ensure necessary columns exist\n",
    "required_columns = ['review', 'rating', 'date', 'bank', 'sentiment', 'theme']\n",
    "if not all(col in df.columns for col in required_columns):\n",
    "    missing = [col for col in required_columns if col not in df.columns]\n",
    "    raise ValueError(f\"Missing required columns in DataFrame: {missing}\")\n",
    "\n",
    "# Step 4: Insert reviews\n",
    "# Fetch bank_id mapping\n",
    "cursor.execute(\"SELECT bank_id, bank_name FROM banks\")\n",
    "bank_id_map = {name: bank_id for bank_id, name in cursor.fetchall()}\n",
    "\n",
    "for _, row in df.iterrows():\n",
    "    try:\n",
    "        review_id = hashlib.md5(row['review'].encode('utf-8')).hexdigest()\n",
    "        bank_id = bank_id_map.get(row['bank'])\n",
    "        review_text = row['review']\n",
    "        rating = int(row['rating'])\n",
    "        review_date = str(row['date'])[:10]\n",
    "        sentiment = row['sentiment']\n",
    "        theme = row.get('theme', None)\n",
    "\n",
    "        cursor.execute(\"\"\"\n",
    "            MERGE INTO reviews r\n",
    "            USING (SELECT :1 AS review_id FROM dual) src\n",
    "            ON (r.review_id = src.review_id)\n",
    "            WHEN NOT MATCHED THEN\n",
    "                INSERT (\n",
    "                    review_text, rating, review_date,bank_id, sentiment, theme\n",
    "                )\n",
    "                VALUES (\n",
    "                         :1, :2, TO_DATE(:3, 'YYYY-MM-DD'), :4, :5, :6\n",
    "                )\n",
    "        \"\"\", (review_id, bank_id, review_text, rating, review_date, sentiment, theme))\n",
    "    except Exception as e:\n",
    "        print(f\"Failed to insert review: {e}\")\n",
    "\n",
    "conn.commit()\n",
    "print(f\"successfully inserted\")\n",
    "cursor.close()\n",
    "conn.close()\n"
   ]
  },
  {
   "cell_type": "code",
   "execution_count": 32,
   "id": "6997dbc6-8d82-4b56-8099-6e602757a8b8",
   "metadata": {},
   "outputs": [
    {
     "ename": "InterfaceError",
     "evalue": "not open",
     "output_type": "error",
     "traceback": [
      "\u001b[31m---------------------------------------------------------------------------\u001b[39m",
      "\u001b[31mInterfaceError\u001b[39m                            Traceback (most recent call last)",
      "\u001b[36mCell\u001b[39m\u001b[36m \u001b[39m\u001b[32mIn[32]\u001b[39m\u001b[32m, line 1\u001b[39m\n\u001b[32m----> \u001b[39m\u001b[32m1\u001b[39m \u001b[43mcursor\u001b[49m\u001b[43m.\u001b[49m\u001b[43mexecute\u001b[49m\u001b[43m(\u001b[49m\u001b[33;43m\"\u001b[39;49m\u001b[33;43mSELECT * FROM reviews\u001b[39;49m\u001b[33;43m\"\u001b[39;49m\u001b[43m)\u001b[49m\n\u001b[32m      3\u001b[39m \u001b[38;5;28;01mfor\u001b[39;00m row \u001b[38;5;129;01min\u001b[39;00m cursor.fetchall():\n\u001b[32m      4\u001b[39m     \u001b[38;5;28mprint\u001b[39m(row)\n",
      "\u001b[31mInterfaceError\u001b[39m: not open"
     ]
    }
   ],
   "source": [
    "cursor.execute(\"SELECT * FROM reviews\")\n",
    "\n",
    "for row in cursor.fetchall():\n",
    "    print(row)\n"
   ]
  },
  {
   "cell_type": "code",
   "execution_count": null,
   "id": "15558efb-3b44-46e1-920d-8f84288eb760",
   "metadata": {},
   "outputs": [],
   "source": []
  }
 ],
 "metadata": {
  "kernelspec": {
   "display_name": "Python 3 (ipykernel)",
   "language": "python",
   "name": "python3"
  },
  "language_info": {
   "codemirror_mode": {
    "name": "ipython",
    "version": 3
   },
   "file_extension": ".py",
   "mimetype": "text/x-python",
   "name": "python",
   "nbconvert_exporter": "python",
   "pygments_lexer": "ipython3",
   "version": "3.13.2"
  }
 },
 "nbformat": 4,
 "nbformat_minor": 5
}
