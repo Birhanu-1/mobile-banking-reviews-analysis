{
 "cells": [
  {
   "cell_type": "code",
   "execution_count": null,
   "id": "804470f4-0472-4436-8576-c365c50e28b3",
   "metadata": {},
   "outputs": [],
   "source": [
    "Web Scraping Script: Google Play Store Reviews for Ethiopian Banks\n",
    "\n",
    "Objective:\n",
    "-----------\n",
    "This script scrapes user reviews from the Google Play Store for three major Ethiopian banks:\n",
    "- Commercial Bank of Ethiopia (CBE)\n",
    "- Bank of Abyssinia (BOA)\n",
    "- Dashen Bank\n",
    "\n",
    "It uses the `google-play-scraper` library to collect:\n",
    "    - Review text\n",
    "    - Rating (1–5)\n",
    "    - Review date\n",
    "    - Associated bank name\n",
    "    - Data source"
   ]
  },
  {
   "cell_type": "code",
   "execution_count": 23,
   "id": "9fd8b1df-8c90-45c6-af2f-6aa3f87336c0",
   "metadata": {},
   "outputs": [],
   "source": [
    "from google_play_scraper import Sort, reviews\n",
    "import pandas as pd\n",
    "import time\n",
    "import matplotlib.pyplot as plt\n",
    "import seaborn as sns"
   ]
  },
  {
   "cell_type": "code",
   "execution_count": 24,
   "id": "35027bdf-eb4d-452a-b61b-a4a065536f6e",
   "metadata": {},
   "outputs": [
    {
     "name": "stdout",
     "output_type": "stream",
     "text": [
      "Scraping reviews for CBE (App ID: com.combanketh.mobilebanking)\n",
      "Fetched 200 reviews for CBE so far...\n",
      "Fetched 400 reviews for CBE so far...\n",
      "Collected 400 reviews for CBE\n",
      "Scraping reviews for BOA (App ID: com.boa.boaMobileBanking)\n",
      "Fetched 200 reviews for BOA so far...\n",
      "Fetched 400 reviews for BOA so far...\n",
      "Collected 400 reviews for BOA\n",
      "Scraping reviews for Dashen (App ID: com.cr2.amolelight)\n",
      "Fetched 200 reviews for Dashen so far...\n",
      "Fetched 400 reviews for Dashen so far...\n",
      "Collected 400 reviews for Dashen\n",
      "Saved all reviews to 'data/raw_reviews.csv'\n"
     ]
    },
    {
     "name": "stderr",
     "output_type": "stream",
     "text": [
      "C:\\Users\\user\\AppData\\Local\\Temp\\ipykernel_16992\\1293742912.py:55: FutureWarning: \n",
      "\n",
      "Passing `palette` without assigning `hue` is deprecated and will be removed in v0.14.0. Assign the `x` variable to `hue` and set `legend=False` for the same effect.\n",
      "\n",
      "  sns.countplot(data=combined_df, x='bank', palette='viridis')\n"
     ]
    },
    {
     "data": {
      "image/png": "[encoded data removed]",
      "text/plain": [
       "<Figure size 800x500 with 1 Axes>"
      ]
     },
     "metadata": {},
     "output_type": "display_data"
    }
   ],
   "source": [
    "def fetch_reviews(app_id, bank_name, total_count=400):\n",
    "    all_reviews = []\n",
    "    count_per_call = 200  # max reviews per single call is usually 200\n",
    "    next_pagination_token = None\n",
    "\n",
    "    while len(all_reviews) < total_count:\n",
    "        count = min(count_per_call, total_count - len(all_reviews))\n",
    "        result, next_pagination_token = reviews(\n",
    "            app_id,\n",
    "            lang='en',\n",
    "            country='us',\n",
    "            sort=Sort.NEWEST,\n",
    "            count=count,\n",
    "            continuation_token=next_pagination_token\n",
    "        )\n",
    "        if not result:\n",
    "            print(f\"No more reviews returned for {bank_name}\")\n",
    "            break\n",
    "        all_reviews.extend(result)\n",
    "        print(f\"Fetched {len(all_reviews)} reviews for {bank_name} so far...\")\n",
    "        time.sleep(1)  # Be polite to avoid rate limits\n",
    "\n",
    "        if not next_pagination_token:\n",
    "            break  # No more pages\n",
    "    \n",
    "    df = pd.DataFrame(all_reviews)\n",
    "    # Select relevant columns\n",
    "    df = df[['content', 'score', 'at']]\n",
    "    df.columns = ['review', 'rating', 'date']\n",
    "    df['bank'] = bank_name\n",
    "    df['source'] = 'Google Play'\n",
    "    return df\n",
    "\n",
    "def main():\n",
    "    apps = {\n",
    "        'com.combanketh.mobilebanking': 'CBE',\n",
    "        'com.boa.boaMobileBanking': 'BOA',\n",
    "        'com.cr2.amolelight': 'Dashen'\n",
    "    }\n",
    "\n",
    "    all_dfs = []\n",
    "    for app_id, bank in apps.items():\n",
    "        print(f\"Scraping reviews for {bank} (App ID: {app_id})\")\n",
    "        df = fetch_reviews(app_id, bank, total_count=400)\n",
    "        print(f\"Collected {len(df)} reviews for {bank}\")\n",
    "        all_dfs.append(df)\n",
    "\n",
    "    combined_df = pd.concat(all_dfs, ignore_index=True)\n",
    "    combined_df.to_csv('../data/raw_reviews.csv', index=False)\n",
    "    print(\"Saved all reviews to 'data/raw_reviews.csv'\")\n",
    "    #os.makedirs(\"data\", exist_ok=True)\n",
    "        # 📊 Plotting number of reviews per bank\n",
    "    plt.figure(figsize=(8, 5))\n",
    "    sns.set_style(\"whitegrid\")\n",
    "    sns.countplot(data=combined_df, x='bank', palette='viridis')\n",
    "\n",
    "    plt.title('Number of Cleaned Reviews per Bank')\n",
    "    plt.xlabel('Bank')\n",
    "    plt.ylabel('Review Count')\n",
    "    plt.tight_layout()\n",
    "    plt.savefig(\"../data/review_counts_per_bank.png\")  # optional: save the plot\n",
    "    plt.show()\n",
    "\n",
    "if __name__ == \"__main__\":\n",
    "    main()\n"
   ]
  },
  {
   "cell_type": "code",
   "execution_count": null,
   "id": "048c357d-e819-4a68-a867-480fe4b3adde",
   "metadata": {},
   "outputs": [],
   "source": []
  }
 ],
 "metadata": {
  "kernelspec": {
   "display_name": "Python 3 (ipykernel)",
   "language": "python",
   "name": "python3"
  },
  "language_info": {
   "codemirror_mode": {
    "name": "ipython",
    "version": 3
   },
   "file_extension": ".py",
   "mimetype": "text/x-python",
   "name": "python",
   "nbconvert_exporter": "python",
   "pygments_lexer": "ipython3",
   "version": "3.13.2"
  }
 },
 "nbformat": 4,
 "nbformat_minor": 5
}
