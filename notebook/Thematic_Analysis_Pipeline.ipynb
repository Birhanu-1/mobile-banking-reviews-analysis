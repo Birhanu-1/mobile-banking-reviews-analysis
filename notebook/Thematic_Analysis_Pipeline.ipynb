{
 "cells": [
  {
   "cell_type": "code",
   "execution_count": 8,
   "id": "52bbb779-684f-438f-98f5-a9eb34a51c65",
   "metadata": {},
   "outputs": [],
   "source": [
    "import pandas as pd\n",
    "import re\n",
    "import string\n",
    "from sklearn.feature_extraction.text import TfidfVectorizer\n",
    "from sklearn.preprocessing import LabelEncoder\n",
    "from nltk.corpus import stopwords\n",
    "from nltk.tokenize import word_tokenize\n",
    "from collections import defaultdict\n",
    "#from nltk.tokenize import word_tokenize\n",
    "import nltk\n",
    "import matplotlib.pyplot as plt\n",
    "import seaborn as sns"
   ]
  },
  {
   "cell_type": "code",
   "execution_count": 12,
   "id": "b46c4168-c073-40b8-a072-6c69d0b5e5f0",
   "metadata": {},
   "outputs": [
    {
     "name": "stdout",
     "output_type": "stream",
     "text": [
      "Preprocessing and extracting keywords...\n",
      "Clustering keywords into themes...\n",
      "Assigning themes to reviews...\n",
      "Saved to review_with_themes.csv\n"
     ]
    },
    {
     "data": {
      "image/png": "[encoded data removed]",
      "text/plain": [
       "<Figure size 1200x600 with 1 Axes>"
      ]
     },
     "metadata": {},
     "output_type": "display_data"
    },
    {
     "ename": "TypeError",
     "evalue": "cannot unpack non-iterable NoneType object",
     "output_type": "error",
     "traceback": [
      "\u001b[31m---------------------------------------------------------------------------\u001b[39m",
      "\u001b[31mTypeError\u001b[39m                                 Traceback (most recent call last)",
      "\u001b[36mCell\u001b[39m\u001b[36m \u001b[39m\u001b[32mIn[12]\u001b[39m\u001b[32m, line 106\u001b[39m\n\u001b[32m    103\u001b[39m         \u001b[38;5;28mprint\u001b[39m(\u001b[33mf\u001b[39m\u001b[33m\"\u001b[39m\u001b[38;5;132;01m{\u001b[39;00mbank\u001b[38;5;132;01m}\u001b[39;00m\u001b[33m: \u001b[39m\u001b[38;5;132;01m{\u001b[39;00m\u001b[33m'\u001b[39m\u001b[33m, \u001b[39m\u001b[33m'\u001b[39m.join(theme_list)\u001b[38;5;132;01m}\u001b[39;00m\u001b[33m\"\u001b[39m)\n\u001b[32m    105\u001b[39m \u001b[38;5;28;01mif\u001b[39;00m \u001b[34m__name__\u001b[39m == \u001b[33m\"\u001b[39m\u001b[33m__main__\u001b[39m\u001b[33m\"\u001b[39m:\n\u001b[32m--> \u001b[39m\u001b[32m106\u001b[39m     \u001b[43mmain_thematic\u001b[49m\u001b[43m(\u001b[49m\u001b[43m)\u001b[49m\n",
      "\u001b[36mCell\u001b[39m\u001b[36m \u001b[39m\u001b[32mIn[12]\u001b[39m\u001b[32m, line 100\u001b[39m, in \u001b[36mmain_thematic\u001b[39m\u001b[34m()\u001b[39m\n\u001b[32m     98\u001b[39m df = pd.read_csv(\u001b[33m'\u001b[39m\u001b[33m../data/reviews_with_sentiment.csv\u001b[39m\u001b[33m'\u001b[39m)  \u001b[38;5;66;03m# from previous step\u001b[39;00m\n\u001b[32m     99\u001b[39m df, themes = thematic_analysis_pipeline(df)\n\u001b[32m--> \u001b[39m\u001b[32m100\u001b[39m df, themes = plot_themes_by_bank(df)\n\u001b[32m    101\u001b[39m \u001b[38;5;28mprint\u001b[39m(\u001b[33m\"\u001b[39m\u001b[38;5;130;01m\\n\u001b[39;00m\u001b[33mTop Themes Per Bank:\u001b[39m\u001b[33m\"\u001b[39m)\n\u001b[32m    102\u001b[39m \u001b[38;5;28;01mfor\u001b[39;00m bank, theme_list \u001b[38;5;129;01min\u001b[39;00m themes.items():\n",
      "\u001b[31mTypeError\u001b[39m: cannot unpack non-iterable NoneType object"
     ]
    }
   ],
   "source": [
    "\n",
    "\n",
    "def clean_text(text):\n",
    "    text = text.lower()\n",
    "    text = re.sub(r\"http\\S+|www\\S+|https\\S+\", '', text)  # remove URLs\n",
    "    text = re.sub(r'\\@\\w+|\\#','', text)  # remove mentions and hashtags\n",
    "    text = re.sub(f\"[{re.escape(string.punctuation)}]\", \"\", text)  # remove punctuation\n",
    "    text = re.sub(r\"\\d+\", \"\", text)  # remove digits\n",
    "    tokens = word_tokenize(text)\n",
    "    tokens = [word for word in tokens if word not in stopwords.words('english') and len(word) > 2]\n",
    "    return ' '.join(tokens)\n",
    "\n",
    "def extract_keywords(df, max_features=100):\n",
    "    \"\"\" Extract keywords using TF-IDF for each bank \"\"\"\n",
    "    df['clean_text'] = df['review'].apply(clean_text)\n",
    "    \n",
    "    keywords_per_bank = {}\n",
    "    \n",
    "    for bank in df['bank'].unique():\n",
    "        bank_df = df[df['bank'] == bank]\n",
    "        vectorizer = TfidfVectorizer(max_features=max_features)\n",
    "        X = vectorizer.fit_transform(bank_df['clean_text'])\n",
    "        keywords = vectorizer.get_feature_names_out()\n",
    "        keywords_per_bank[bank] = keywords.tolist()\n",
    "    \n",
    "    return keywords_per_bank\n",
    "\n",
    "def manually_cluster_keywords(keywords_per_bank):\n",
    "    \"\"\" Group keywords into themes manually (example rule-based groups) \"\"\"\n",
    "    themes = {\n",
    "        'Access Issues': ['login', 'authentication', 'fail', 'reset'],\n",
    "        'Performance': ['slow', 'lag', 'freeze', 'crash', 'load'],\n",
    "        'UI/UX': ['design', 'interface', 'navigation', 'menu'],\n",
    "        'Features': ['transfer', 'statement', 'balance', 'notification'],\n",
    "        'Support': ['help', 'service', 'support', 'response'],\n",
    "    }\n",
    "\n",
    "    keyword_to_theme = {}\n",
    "    for theme, kw_list in themes.items():\n",
    "        for kw in kw_list:\n",
    "            keyword_to_theme[kw] = theme\n",
    "\n",
    "    bank_theme_map = defaultdict(set)\n",
    "\n",
    "    for bank, keywords in keywords_per_bank.items():\n",
    "        for word in keywords:\n",
    "            theme = keyword_to_theme.get(word)\n",
    "            if theme:\n",
    "                bank_theme_map[bank].add(theme)\n",
    "    \n",
    "    return {k: list(v) for k, v in bank_theme_map.items()}\n",
    "\n",
    "def add_theme_column(df, themes):\n",
    "    \"\"\" Adds a theme column to the DataFrame based on keyword matching \"\"\"\n",
    "    def detect_theme(text, bank):\n",
    "        detected = set()\n",
    "        for theme, kws in themes.items():\n",
    "            for kw in kws:\n",
    "                if kw in text:\n",
    "                    detected.add(theme)\n",
    "        return ', '.join(detected) if detected else 'Other'\n",
    "    \n",
    "    df['theme'] = df.apply(lambda row: detect_theme(row['clean_text'], row['bank']), axis=1)\n",
    "    return df\n",
    "def plot_themes_by_bank(df):\n",
    "    \"\"\"\n",
    "    Plot a bar chart showing the number of reviews per theme, grouped by bank.\n",
    "    \"\"\"\n",
    "    theme_counts = df.groupby(['bank', 'theme']).size().reset_index(name='count')\n",
    "    \n",
    "    plt.figure(figsize=(12, 6))\n",
    "    sns.barplot(data=theme_counts, x='theme', y='count', hue='bank')\n",
    "    plt.title('Review Themes by Bank')\n",
    "    plt.xlabel('Theme')\n",
    "    plt.ylabel('Number of Reviews')\n",
    "    plt.xticks(rotation=45)\n",
    "    plt.tight_layout()\n",
    "    plt.show()\n",
    "\n",
    "def thematic_analysis_pipeline(df):\n",
    "    print(\"Preprocessing and extracting keywords...\")\n",
    "    keywords_per_bank = extract_keywords(df)\n",
    "    print(\"Clustering keywords into themes...\")\n",
    "    clustered_themes = manually_cluster_keywords(keywords_per_bank)\n",
    "    print(\"Assigning themes to reviews...\")\n",
    "    df = add_theme_column(df, clustered_themes)\n",
    "    \n",
    "    # Save CSV with themes\n",
    "    df[['review', 'rating', 'date', 'bank', 'sentiment', 'theme']].to_csv(\"../data/review_with_themes.csv\", index=False)\n",
    "    print(\"Saved to review_with_themes.csv\")\n",
    "    return df, clustered_themes\n",
    "def main_thematic():\n",
    "    df = pd.read_csv('../data/reviews_with_sentiment.csv')  # from previous step\n",
    "    df, themes = thematic_analysis_pipeline(df)\n",
    "    df, themes = plot_themes_by_bank(df)\n",
    "    print(\"\\nTop Themes Per Bank:\")\n",
    "    for bank, theme_list in themes.items():\n",
    "        print(f\"{bank}: {', '.join(theme_list)}\")\n",
    "\n",
    "if __name__ == \"__main__\":\n",
    "    main_thematic()"
   ]
  },
  {
   "cell_type": "code",
   "execution_count": null,
   "id": "b9e5923a-504c-4cc4-91db-bb404c2e60a2",
   "metadata": {},
   "outputs": [],
   "source": []
  }
 ],
 "metadata": {
  "kernelspec": {
   "display_name": "Python 3 (ipykernel)",
   "language": "python",
   "name": "python3"
  },
  "language_info": {
   "codemirror_mode": {
    "name": "ipython",
    "version": 3
   },
   "file_extension": ".py",
   "mimetype": "text/x-python",
   "name": "python",
   "nbconvert_exporter": "python",
   "pygments_lexer": "ipython3",
   "version": "3.13.2"
  }
 },
 "nbformat": 4,
 "nbformat_minor": 5
}
